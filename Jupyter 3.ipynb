{
 "cells": [
  {
   "cell_type": "code",
   "execution_count": 1,
   "id": "295bf509",
   "metadata": {},
   "outputs": [
    {
     "data": {
      "text/plain": [
       "False"
      ]
     },
     "execution_count": 1,
     "metadata": {},
     "output_type": "execute_result"
    }
   ],
   "source": [
    "# Condition Equal \n",
    "a = 7\n",
    "a == 8"
   ]
  },
  {
   "cell_type": "code",
   "execution_count": 2,
   "id": "586289c9",
   "metadata": {},
   "outputs": [
    {
     "data": {
      "text/plain": [
       "True"
      ]
     },
     "execution_count": 2,
     "metadata": {},
     "output_type": "execute_result"
    }
   ],
   "source": [
    "# Greater than Sing \n",
    "r = 8 \n",
    "r > 7"
   ]
  },
  {
   "cell_type": "code",
   "execution_count": 4,
   "id": "53e52cf0",
   "metadata": {},
   "outputs": [
    {
     "data": {
      "text/plain": [
       "True"
      ]
     },
     "execution_count": 4,
     "metadata": {},
     "output_type": "execute_result"
    }
   ],
   "source": [
    "# Inequality sign \n",
    "r = 3 \n",
    "r != 5"
   ]
  },
  {
   "cell_type": "code",
   "execution_count": 5,
   "id": "47369255",
   "metadata": {},
   "outputs": [
    {
     "data": {
      "text/plain": [
       "False"
      ]
     },
     "execution_count": 5,
     "metadata": {},
     "output_type": "execute_result"
    }
   ],
   "source": [
    "# Inequality sing \n",
    "r = 5 \n",
    "r != 5"
   ]
  },
  {
   "cell_type": "code",
   "execution_count": 6,
   "id": "3383a06a",
   "metadata": {},
   "outputs": [
    {
     "data": {
      "text/plain": [
       "False"
      ]
     },
     "execution_count": 6,
     "metadata": {},
     "output_type": "execute_result"
    }
   ],
   "source": [
    "# Use Equality sing to compare the strings \n",
    "\"ACDC\" == \"Ebtehal\""
   ]
  },
  {
   "cell_type": "code",
   "execution_count": 7,
   "id": "5cad0ae2",
   "metadata": {},
   "outputs": [
    {
     "data": {
      "text/plain": [
       "True"
      ]
     },
     "execution_count": 7,
     "metadata": {},
     "output_type": "execute_result"
    }
   ],
   "source": [
    "# Use Inequality sing to compare the strings \n",
    "\"ACDC\" != \"Ebtehal\""
   ]
  },
  {
   "cell_type": "code",
   "execution_count": 8,
   "id": "87566046",
   "metadata": {},
   "outputs": [
    {
     "data": {
      "text/plain": [
       "False"
      ]
     },
     "execution_count": 8,
     "metadata": {},
     "output_type": "execute_result"
    }
   ],
   "source": [
    "# compare charecters \n",
    "'A' > 'C'"
   ]
  },
  {
   "cell_type": "code",
   "execution_count": 10,
   "id": "ca1b8e2d",
   "metadata": {},
   "outputs": [
    {
     "data": {
      "text/plain": [
       "True"
      ]
     },
     "execution_count": 10,
     "metadata": {},
     "output_type": "execute_result"
    }
   ],
   "source": [
    "# Compare charecters \n",
    "'CA' > 'AC'"
   ]
  },
  {
   "cell_type": "code",
   "execution_count": 14,
   "id": "022ad54d",
   "metadata": {},
   "outputs": [
    {
     "name": "stdout",
     "output_type": "stream",
     "text": [
      " you can enter\n",
      " move on\n"
     ]
    }
   ],
   "source": [
    "# If statement example \n",
    "age = 20 \n",
    "#age = 19 \n",
    "if age > 19: \n",
    "    print (\" you can enter\" )\n",
    "    print (\" move on\")"
   ]
  },
  {
   "cell_type": "code",
   "execution_count": 23,
   "id": "be10e547",
   "metadata": {},
   "outputs": [
    {
     "name": "stdout",
     "output_type": "stream",
     "text": [
      "Album your is greater then 2001\n",
      "do something ..\n"
     ]
    }
   ],
   "source": [
    " album_year = 2000 \n",
    "album_year = 2003\n",
    "if album_year > 2001:\n",
    "     print(\"Album your is greater then 2001\")\n",
    "print('do something ..')"
   ]
  },
  {
   "cell_type": "code",
   "execution_count": 28,
   "id": "fbf119a1",
   "metadata": {},
   "outputs": [
    {
     "name": "stdout",
     "output_type": "stream",
     "text": [
      "\n",
      "Do stuff ..\n"
     ]
    }
   ],
   "source": [
    "album_year = 2003\n",
    "if (album_year > 2000 ) and (album_year > 2003): \n",
    "     print(\"Album year was in between 2000 and 2003\") \n",
    "print(\"\")\n",
    "print(\"Do stuff ..\")"
   ]
  },
  {
   "cell_type": "code",
   "execution_count": 29,
   "id": "846e35e9",
   "metadata": {},
   "outputs": [
    {
     "name": "stdout",
     "output_type": "stream",
     "text": [
      "2000\n",
      "2001\n",
      "2002\n"
     ]
    }
   ],
   "source": [
    "dates = [2000,2001,2002]\n",
    "N = len(dates)\n",
    "for i in range(N):\n",
    "    print(dates[i])"
   ]
  },
  {
   "cell_type": "code",
   "execution_count": 31,
   "id": "811da770",
   "metadata": {},
   "outputs": [
    {
     "name": "stdout",
     "output_type": "stream",
     "text": [
      "0\n",
      "1\n",
      "2\n",
      "3\n",
      "4\n",
      "5\n",
      "6\n"
     ]
    }
   ],
   "source": [
    "for i in range (0,7):\n",
    "     print(i)"
   ]
  },
  {
   "cell_type": "code",
   "execution_count": 33,
   "id": "ae47ed8e",
   "metadata": {},
   "outputs": [
    {
     "name": "stdout",
     "output_type": "stream",
     "text": [
      "Before square  0 is red\n",
      "After square  0 is white\n",
      "Before square  1 is green\n",
      "After square  1 is white\n",
      "Before square  2 is blue\n",
      "After square  2 is white\n"
     ]
    }
   ],
   "source": [
    "squares = ['red', 'green','blue']\n",
    "for i in range(0,3):\n",
    "    print(\"Before square \",i, 'is', squares[i])\n",
    "    squares[i] = 'white'\n",
    "    print(\"After square \", i, 'is', squares[i])    "
   ]
  },
  {
   "cell_type": "code",
   "execution_count": 53,
   "id": "25c31085",
   "metadata": {},
   "outputs": [
    {
     "name": "stdout",
     "output_type": "stream",
     "text": [
      "Help on function add in module __main__:\n",
      "\n",
      "add(a)\n",
      "    add 1 to a\n",
      "\n"
     ]
    }
   ],
   "source": [
    "help (add)"
   ]
  },
  {
   "cell_type": "code",
   "execution_count": 58,
   "id": "cf131cd7",
   "metadata": {},
   "outputs": [
    {
     "name": "stdout",
     "output_type": "stream",
     "text": [
      "24\n"
     ]
    }
   ],
   "source": [
    "def Mult(a, b):\n",
    "    c = a * b\n",
    "    return(c)\n",
    "    print('This is not printed')\n",
    "    \n",
    "result = Mult(12,2)\n",
    "print(result)"
   ]
  },
  {
   "cell_type": "code",
   "execution_count": 63,
   "id": "cd6fa11d",
   "metadata": {},
   "outputs": [
    {
     "data": {
      "text/plain": [
       "3.0"
      ]
     },
     "execution_count": 63,
     "metadata": {},
     "output_type": "execute_result"
    }
   ],
   "source": [
    "Mult (1.0, 3)"
   ]
  },
  {
   "cell_type": "code",
   "execution_count": 75,
   "id": "747f50a7",
   "metadata": {},
   "outputs": [
    {
     "data": {
      "text/plain": [
       "'Ebtehal Ahmed Ebtehal Ahmed '"
      ]
     },
     "execution_count": 75,
     "metadata": {},
     "output_type": "execute_result"
    }
   ],
   "source": [
    "Mult(2, \"Ebtehal Ahmed \")"
   ]
  },
  {
   "cell_type": "code",
   "execution_count": 92,
   "id": "0dfb1e7c",
   "metadata": {},
   "outputs": [
    {
     "data": {
      "text/plain": [
       "' thisis'"
      ]
     },
     "execution_count": 92,
     "metadata": {},
     "output_type": "execute_result"
    }
   ],
   "source": [
    "con(\" this\", \"is\")"
   ]
  },
  {
   "cell_type": "code",
   "execution_count": 113,
   "id": "37a86aca",
   "metadata": {},
   "outputs": [
    {
     "name": "stdout",
     "output_type": "stream",
     "text": [
      "album_yaer\n"
     ]
    }
   ],
   "source": [
    "print(\"album_yaer\")"
   ]
  },
  {
   "cell_type": "code",
   "execution_count": 118,
   "id": "ce75bcdc",
   "metadata": {},
   "outputs": [
    {
     "data": {
      "text/plain": [
       "10"
      ]
     },
     "execution_count": 118,
     "metadata": {},
     "output_type": "execute_result"
    }
   ],
   "source": [
    "len(\"album_yaer\")"
   ]
  }
 ],
 "metadata": {
  "kernelspec": {
   "display_name": "Python 3 (ipykernel)",
   "language": "python",
   "name": "python3"
  },
  "language_info": {
   "codemirror_mode": {
    "name": "ipython",
    "version": 3
   },
   "file_extension": ".py",
   "mimetype": "text/x-python",
   "name": "python",
   "nbconvert_exporter": "python",
   "pygments_lexer": "ipython3",
   "version": "3.9.12"
  }
 },
 "nbformat": 4,
 "nbformat_minor": 5
}
