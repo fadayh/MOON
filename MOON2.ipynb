{
 "cells": [
  {
   "cell_type": "code",
   "execution_count": 16,
   "id": "355a82e1",
   "metadata": {},
   "outputs": [
    {
     "data": {
      "text/plain": [
       "['Fadayh Moid', 1.47, 2003]"
      ]
     },
     "execution_count": 16,
     "metadata": {},
     "output_type": "execute_result"
    }
   ],
   "source": [
    "L=[\"Fadayh Moid\",1.47,2003]\n",
    "L"
   ]
  },
  {
   "cell_type": "code",
   "execution_count": 17,
   "id": "ae0820d8",
   "metadata": {},
   "outputs": [
    {
     "data": {
      "text/plain": [
       "[1.47, 2003]"
      ]
     },
     "execution_count": 17,
     "metadata": {},
     "output_type": "execute_result"
    }
   ],
   "source": [
    "L=[\"Fadayh Moid\",1.47,2003]\n",
    "L[1:3]"
   ]
  },
  {
   "cell_type": "code",
   "execution_count": 22,
   "id": "0767a976",
   "metadata": {},
   "outputs": [
    {
     "data": {
      "text/plain": [
       "['Fadayh Moid', 1.47, 2003, 'purple', 19]"
      ]
     },
     "execution_count": 22,
     "metadata": {},
     "output_type": "execute_result"
    }
   ],
   "source": [
    "L=[\"Fadayh Moid\",1.47,2003]\n",
    "L.extend(['purple',19])\n",
    "L"
   ]
  },
  {
   "cell_type": "code",
   "execution_count": 20,
   "id": "0d1bd744",
   "metadata": {},
   "outputs": [
    {
     "data": {
      "text/plain": [
       "['Fadayh Moid', 1.47, 2003, ['purple', '19']]"
      ]
     },
     "execution_count": 20,
     "metadata": {},
     "output_type": "execute_result"
    }
   ],
   "source": [
    "L=[\"Fadayh Moid\",1.47,2003]\n",
    "L.append(['purple','19'])\n",
    "L"
   ]
  },
  {
   "cell_type": "code",
   "execution_count": 31,
   "id": "f15b3f3f",
   "metadata": {},
   "outputs": [
    {
     "name": "stdout",
     "output_type": "stream",
     "text": [
      "Before change : ['Fadayh', 19, 1.47]\n",
      "After change : ['Moid', 19, 1.47]\n"
     ]
    }
   ],
   "source": [
    "A = [\"Fadayh\",19,1.47]\n",
    "print('Before change :',A)\n",
    "A[0]= 'Moid'\n",
    "print('After change :',A)"
   ]
  },
  {
   "cell_type": "code",
   "execution_count": 32,
   "id": "03205651",
   "metadata": {},
   "outputs": [
    {
     "name": "stdout",
     "output_type": "stream",
     "text": [
      "Before change : ['Fadayh', 19, 1.47]\n",
      "After change : [19, 1.47]\n"
     ]
    }
   ],
   "source": [
    "A = [\"Fadayh\",19,1.47]\n",
    "print('Before change :',A)\n",
    "del (A[0])\n",
    "print('After change :',A)"
   ]
  },
  {
   "cell_type": "code",
   "execution_count": 34,
   "id": "c9bf7c56",
   "metadata": {},
   "outputs": [
    {
     "name": "stdout",
     "output_type": "stream",
     "text": [
      "Before change : ['Fadayh', 19, 1.47]\n",
      "After change : ['Moid', 19, 1.47]\n"
     ]
    },
    {
     "data": {
      "text/plain": [
       "['Moid']"
      ]
     },
     "execution_count": 34,
     "metadata": {},
     "output_type": "execute_result"
    }
   ],
   "source": [
    "A = [\"Fadayh\",19,1.47]\n",
    "print('Before change :',A)\n",
    "A[0]= 'Moid'\n",
    "print('After change :',A)\n",
    "'Moid'.split()"
   ]
  },
  {
   "cell_type": "code",
   "execution_count": 40,
   "id": "2b2169f5",
   "metadata": {},
   "outputs": [
    {
     "name": "stdout",
     "output_type": "stream",
     "text": [
      "Before change : ['Fadayh', 19, 1.47]\n",
      "After change : ['Moid', 19, 1.47]\n"
     ]
    },
    {
     "data": {
      "text/plain": [
       "['1', '2', '3']"
      ]
     },
     "execution_count": 40,
     "metadata": {},
     "output_type": "execute_result"
    }
   ],
   "source": [
    "A = [\"Fadayh\",19,1.47]\n",
    "print('Before change :',A)\n",
    "A[0]= 'Moid'\n",
    "print('After change :',A)\n",
    "'1,2,3'.split(',')"
   ]
  },
  {
   "cell_type": "code",
   "execution_count": 33,
   "id": "4b55d402",
   "metadata": {},
   "outputs": [
    {
     "name": "stdout",
     "output_type": "stream",
     "text": [
      "A : ['Fadayh', 19, 1.47]\n",
      "B : ['Fadayh', 19, 1.47]\n"
     ]
    }
   ],
   "source": [
    "A = [\"Fadayh\",19,1.47]\n",
    "B = A\n",
    "print('A :',A)\n",
    "print('B :',B)"
   ]
  },
  {
   "cell_type": "code",
   "execution_count": 57,
   "id": "ea584134",
   "metadata": {},
   "outputs": [
    {
     "name": "stdout",
     "output_type": "stream",
     "text": [
      "B[0] : Fadayh\n",
      "B[0] : Fadayh\n"
     ]
    }
   ],
   "source": [
    "print('B[0] :',B[0])\n",
    "A[0] = \"Fadayh\"\n",
    "print('B[0] :',B[0]) "
   ]
  },
  {
   "cell_type": "code",
   "execution_count": 50,
   "id": "9f6feff1",
   "metadata": {},
   "outputs": [
    {
     "data": {
      "text/plain": [
       "['Fadayh', 19, 1.47]"
      ]
     },
     "execution_count": 50,
     "metadata": {},
     "output_type": "execute_result"
    }
   ],
   "source": [
    "A = [\"Fadayh\",19,1.47]\n",
    "B=A[:]\n",
    "B"
   ]
  },
  {
   "cell_type": "code",
   "execution_count": null,
   "id": "6099bd2c",
   "metadata": {},
   "outputs": [],
   "source": [
    "********************************************************************************************************************************"
   ]
  },
  {
   "cell_type": "code",
   "execution_count": 62,
   "id": "f65cf137",
   "metadata": {},
   "outputs": [
    {
     "data": {
      "text/plain": [
       "{'Key1': 19,\n",
       " 'Key2': 'Fadayh',\n",
       " 'Key3': [1, 47, 3],\n",
       " 'Key4': (2, 0, 0, 3),\n",
       " 'Key5': 2,\n",
       " (1, 47): 3}"
      ]
     },
     "execution_count": 62,
     "metadata": {},
     "output_type": "execute_result"
    }
   ],
   "source": [
    "Dict = { \"Key1\": 19 , \"Key2\": \"Fadayh\" ,\"Key3\": [1,47,3] ,\"Key4\": (2,0,0,3) ,\"Key5\": 2 ,(1,47):3 }\n",
    "Dict"
   ]
  },
  {
   "cell_type": "code",
   "execution_count": 63,
   "id": "3c8022f9",
   "metadata": {},
   "outputs": [
    {
     "data": {
      "text/plain": [
       "(2, 0, 0, 3)"
      ]
     },
     "execution_count": 63,
     "metadata": {},
     "output_type": "execute_result"
    }
   ],
   "source": [
    "Dict = { \"Key1\": 19 , \"Key2\": \"Fadayh\" ,\"Key3\": [1,47,3] ,\"Key4\": (2,0,0,3) ,\"Key5\": 2 ,(1,47):3 }\n",
    "Dict[\"Key4\"]"
   ]
  },
  {
   "cell_type": "code",
   "execution_count": 74,
   "id": "276a8a5f",
   "metadata": {},
   "outputs": [
    {
     "data": {
      "text/plain": [
       "3"
      ]
     },
     "execution_count": 74,
     "metadata": {},
     "output_type": "execute_result"
    }
   ],
   "source": [
    "Dict = { \"Key1\": 19 , \"Key2\": \"Fadayh\" ,\"Key3\": [1,47,3] ,\"Key4\": (2,0,0,3) ,\"Key5\": 2 ,(1,47):3 }\n",
    "Dict[(1,47)]"
   ]
  },
  {
   "cell_type": "code",
   "execution_count": 79,
   "id": "a0580621",
   "metadata": {},
   "outputs": [
    {
     "data": {
      "text/plain": [
       "{'fadayh': 2003, 'salwa': 2002, 'fooz': 1995, 'ahmad': 2010, 'fatimh': 2015}"
      ]
     },
     "execution_count": 79,
     "metadata": {},
     "output_type": "execute_result"
    }
   ],
   "source": [
    "famile_year_dict = { \"fadayh\" : 2003 , \"salwa\": 2002 ,  \"fooz\" : 1995 , \"ahmad\": 2010 , \"fatimh\" : 2015 } \n",
    "famile_year_dict"
   ]
  },
  {
   "cell_type": "code",
   "execution_count": 80,
   "id": "d54ec379",
   "metadata": {},
   "outputs": [
    {
     "data": {
      "text/plain": [
       "2002"
      ]
     },
     "execution_count": 80,
     "metadata": {},
     "output_type": "execute_result"
    }
   ],
   "source": [
    "famile_year_dict = { \"fadayh\" : 2003 , \"salwa\": 2002 ,  \"fooz\" : 1995 , \"ahmad\": 2010 , \"fatimh\" : 2015 } \n",
    "famile_year_dict['salwa']"
   ]
  },
  {
   "cell_type": "code",
   "execution_count": 81,
   "id": "10d9eea1",
   "metadata": {},
   "outputs": [
    {
     "data": {
      "text/plain": [
       "dict_keys(['fadayh', 'salwa', 'fooz', 'ahmad', 'fatimh'])"
      ]
     },
     "execution_count": 81,
     "metadata": {},
     "output_type": "execute_result"
    }
   ],
   "source": [
    "famile_year_dict = { \"fadayh\" : 2003 , \"salwa\": 2002 ,  \"fooz\" : 1995 , \"ahmad\": 2010 , \"fatimh\" : 2015 } \n",
    "famile_year_dict.keys()"
   ]
  },
  {
   "cell_type": "code",
   "execution_count": 82,
   "id": "a5d9e00f",
   "metadata": {},
   "outputs": [
    {
     "data": {
      "text/plain": [
       "dict_values([2003, 2002, 1995, 2010, 2015])"
      ]
     },
     "execution_count": 82,
     "metadata": {},
     "output_type": "execute_result"
    }
   ],
   "source": [
    "famile_year_dict = { \"fadayh\" : 2003 , \"salwa\": 2002 ,  \"fooz\" : 1995 , \"ahmad\": 2010 , \"fatimh\" : 2015 } \n",
    "famile_year_dict.values()"
   ]
  },
  {
   "cell_type": "code",
   "execution_count": 83,
   "id": "584d4830",
   "metadata": {},
   "outputs": [
    {
     "data": {
      "text/plain": [
       "{'fooz': 1995, 'ahmad': 2010, 'fatimh': 2015}"
      ]
     },
     "execution_count": 83,
     "metadata": {},
     "output_type": "execute_result"
    }
   ],
   "source": [
    "famile_year_dict = { \"fadayh\" : 2003 , \"salwa\": 2002 ,  \"fooz\" : 1995 , \"ahmad\": 2010 , \"fatimh\" : 2015 } \n",
    "del (famile_year_dict['fadayh'])\n",
    "del (famile_year_dict['salwa'])\n",
    "famile_year_dict"
   ]
  },
  {
   "cell_type": "code",
   "execution_count": 84,
   "id": "1ee9a9d8",
   "metadata": {},
   "outputs": [
    {
     "data": {
      "text/plain": [
       "True"
      ]
     },
     "execution_count": 84,
     "metadata": {},
     "output_type": "execute_result"
    }
   ],
   "source": [
    "famile_year_dict = { \"fadayh\" : 2003 , \"salwa\": 2002 ,  \"fooz\" : 1995 , \"ahmad\": 2010 , \"fatimh\" : 2015 } \n",
    "'fooz' in famile_year_dict"
   ]
  },
  {
   "cell_type": "code",
   "execution_count": null,
   "id": "86fadfd0",
   "metadata": {},
   "outputs": [],
   "source": [
    "********************************************************************************************************************************"
   ]
  },
  {
   "cell_type": "code",
   "execution_count": 87,
   "id": "cb096707",
   "metadata": {},
   "outputs": [
    {
     "data": {
      "text/plain": [
       "{'fadayh', 'fofo', 'gogo', 'salwa'}"
      ]
     },
     "execution_count": 87,
     "metadata": {},
     "output_type": "execute_result"
    }
   ],
   "source": [
    "set1={\"fadayh\",\"salwa\",\"gogo\",\"salwa\",\"fofo\",\"fadayh\"}\n",
    "set1"
   ]
  },
  {
   "cell_type": "code",
   "execution_count": 89,
   "id": "7bb77f11",
   "metadata": {},
   "outputs": [
    {
     "data": {
      "text/plain": [
       "{0,\n",
       " '1-nov-4',\n",
       " 1.47,\n",
       " 11,\n",
       " '11:11:00',\n",
       " 19,\n",
       " 2003,\n",
       " None,\n",
       " 'fadayh',\n",
       " 'purple,cheery,pop',\n",
       " 'salwa'}"
      ]
     },
     "execution_count": 89,
     "metadata": {},
     "output_type": "execute_result"
    }
   ],
   "source": [
    "album_list=[\"fadayh\",\"salwa\",2003,\"11:11:00\", \"purple,cheery,pop\", 1.47 ,19, \"1-nov-4\",None,11,0]\n",
    "album_list = set(album_list)\n",
    "album_list"
   ]
  },
  {
   "cell_type": "code",
   "execution_count": 90,
   "id": "4bdf9902",
   "metadata": {},
   "outputs": [
    {
     "data": {
      "text/plain": [
       "{'fadayh'}"
      ]
     },
     "execution_count": 90,
     "metadata": {},
     "output_type": "execute_result"
    }
   ],
   "source": [
    "album_list=[\"fadayh\",\"salwa\",2003,\"11:11:00\", \"purple,cheery,pop\", 1.47 ,19, \"1-nov-4\",None,11,0]\n",
    "album_list = set([\"fadayh\"])\n",
    "album_list"
   ]
  },
  {
   "cell_type": "code",
   "execution_count": 97,
   "id": "6874d9c7",
   "metadata": {},
   "outputs": [
    {
     "data": {
      "text/plain": [
       "{0,\n",
       " '1-nov-4',\n",
       " 1.47,\n",
       " 11,\n",
       " '11:11:00',\n",
       " 19,\n",
       " 2003,\n",
       " None,\n",
       " 'fadayh',\n",
       " 'fooz',\n",
       " 'purple,cheery,pop',\n",
       " 'salwa'}"
      ]
     },
     "execution_count": 97,
     "metadata": {},
     "output_type": "execute_result"
    }
   ],
   "source": [
    "album_list=[\"fadayh\",\"salwa\",2003,\"11:11:00\", \"purple,cheery,pop\", 1.47 ,19, \"1-nov-4\",None,11,0]\n",
    "album_list = set(album_list)\n",
    "album_list.add(\"fooz\")\n",
    "album_list"
   ]
  },
  {
   "cell_type": "code",
   "execution_count": 98,
   "id": "0988102c",
   "metadata": {},
   "outputs": [
    {
     "data": {
      "text/plain": [
       "{0,\n",
       " '1-nov-4',\n",
       " 1.47,\n",
       " 11,\n",
       " '11:11:00',\n",
       " 19,\n",
       " 2003,\n",
       " None,\n",
       " 'purple,cheery,pop',\n",
       " 'salwa'}"
      ]
     },
     "execution_count": 98,
     "metadata": {},
     "output_type": "execute_result"
    }
   ],
   "source": [
    "album_list=[\"fadayh\",\"salwa\",2003,\"11:11:00\", \"purple,cheery,pop\", 1.47 ,19, \"1-nov-4\",None,11,0]\n",
    "album_list = set(album_list)\n",
    "album_list.remove(\"fadayh\")\n",
    "album_list"
   ]
  },
  {
   "cell_type": "code",
   "execution_count": 99,
   "id": "a6d51224",
   "metadata": {},
   "outputs": [
    {
     "data": {
      "text/plain": [
       "False"
      ]
     },
     "execution_count": 99,
     "metadata": {},
     "output_type": "execute_result"
    }
   ],
   "source": [
    "album_list=[\"fadayh\",\"salwa\",2003,\"11:11:00\", \"purple,cheery,pop\", 1.47 ,19, \"1-nov-4\",None,11,0]\n",
    "album_list = set(album_list)\n",
    "album_list\n",
    "\n",
    "\"fdfdfd/jkjkjk\" in album_list"
   ]
  },
  {
   "cell_type": "code",
   "execution_count": 101,
   "id": "1e734195",
   "metadata": {},
   "outputs": [
    {
     "data": {
      "text/plain": [
       "({'11:11:00', 2003, 'fadayh', 'salwa'},\n",
       " {0, '1-nov-4', 1.47, 11, 19, 'pop', 'purple,cheery'})"
      ]
     },
     "execution_count": 101,
     "metadata": {},
     "output_type": "execute_result"
    }
   ],
   "source": [
    "album_list1 = set ([\"fadayh\",\"salwa\",2003,\"11:11:00\"])\n",
    "album_list2 =set ([\"purple,cheery\" , \"pop\", 1.47 ,19, \"1-nov-4\",11,0])\n",
    "album_list1 ,album_list2"
   ]
  },
  {
   "cell_type": "code",
   "execution_count": 105,
   "id": "17c20a41",
   "metadata": {},
   "outputs": [
    {
     "data": {
      "text/plain": [
       "{'11:11:00'}"
      ]
     },
     "execution_count": 105,
     "metadata": {},
     "output_type": "execute_result"
    }
   ],
   "source": [
    "album_list1 = set ([\"fadayh\",\"salwa\",2003,\"11:11:00\"])\n",
    "album_list2 =set ([\"purple,cheery\" , \"pop\", 1.47 ,19, \"11:11:00\",11,0])\n",
    "intersection = album_list1 & album_list2\n",
    "intersection"
   ]
  },
  {
   "cell_type": "code",
   "execution_count": 106,
   "id": "af48e811",
   "metadata": {},
   "outputs": [
    {
     "data": {
      "text/plain": [
       "{2003, 'fadayh', 'salwa'}"
      ]
     },
     "execution_count": 106,
     "metadata": {},
     "output_type": "execute_result"
    }
   ],
   "source": [
    "album_list1 = set ([\"fadayh\",\"salwa\",2003,\"11:11:00\"])\n",
    "album_list2 =set ([\"purple,cheery\" , \"pop\", 1.47 ,19, \"11:11:00\",11,0])\n",
    "album_list1.difference(album_list2)\n"
   ]
  },
  {
   "cell_type": "code",
   "execution_count": 109,
   "id": "8c0dfc00",
   "metadata": {},
   "outputs": [
    {
     "data": {
      "text/plain": [
       "{0, 1.47, 11, '11:11:00', 19, 2003, 'fadayh', 'pop', 'purple,cheery', 'salwa'}"
      ]
     },
     "execution_count": 109,
     "metadata": {},
     "output_type": "execute_result"
    }
   ],
   "source": [
    "album_list1 = set ([\"fadayh\",\"salwa\",2003,\"11:11:00\"])\n",
    "album_list2 =set ([\"purple,cheery\" , \"pop\", 1.47 ,19, \"11:11:00\",11,0])\n",
    "album_list1.union(album_list2)"
   ]
  },
  {
   "cell_type": "code",
   "execution_count": 112,
   "id": "2f0efe8c",
   "metadata": {},
   "outputs": [
    {
     "data": {
      "text/plain": [
       "True"
      ]
     },
     "execution_count": 112,
     "metadata": {},
     "output_type": "execute_result"
    }
   ],
   "source": [
    "album_list1 = set ([\"fadayh\",\"salwa\",2003,\"11:11:00\"])\n",
    "album_list2 =set ([\"purple,cheery\" , \"pop\", 1.47 ,19, \"11:11:00\",11,0])\n",
    "set (album_list2).issubset(album_list2)"
   ]
  },
  {
   "cell_type": "code",
   "execution_count": 113,
   "id": "0f1dbb65",
   "metadata": {},
   "outputs": [
    {
     "data": {
      "text/plain": [
       "False"
      ]
     },
     "execution_count": 113,
     "metadata": {},
     "output_type": "execute_result"
    }
   ],
   "source": [
    "album_list1 = set ([\"fadayh\",\"salwa\",2003,\"11:11:00\"])\n",
    "album_list2 =set ([\"purple,cheery\" , \"pop\", 1.47 ,19, \"11:11:00\",11,0])\n",
    "set (album_list1).issubset(album_list2)"
   ]
  },
  {
   "cell_type": "code",
   "execution_count": 115,
   "id": "6825ac5c",
   "metadata": {},
   "outputs": [
    {
     "data": {
      "text/plain": [
       "False"
      ]
     },
     "execution_count": 115,
     "metadata": {},
     "output_type": "execute_result"
    }
   ],
   "source": [
    "album_list1 = set ([\"fadayh\",\"salwa\",2003,\"11:11:00\"])\n",
    "album_list2 =set ([\"purple,cheery\" , \"pop\", 1.47 ,19, \"11:11:00\",11,0])\n",
    "set ({\"pop\"}).issubset(album_list1)"
   ]
  },
  {
   "cell_type": "code",
   "execution_count": 124,
   "id": "42932ab7",
   "metadata": {},
   "outputs": [
    {
     "data": {
      "text/plain": [
       "True"
      ]
     },
     "execution_count": 124,
     "metadata": {},
     "output_type": "execute_result"
    }
   ],
   "source": [
    "album_list1 = set ([\"fadayh\",\"salwa\",2003,\"11:11:00\"])\n",
    "album_list2 =set ([\"purple,cheery\" , \"pop\", 1.47 ,19, \"11:11:00\",11,0])\n",
    "album_list1.issuperset({\"fadayh\",\"salwa\"}) "
   ]
  },
  {
   "cell_type": "code",
   "execution_count": null,
   "id": "64de3c69",
   "metadata": {},
   "outputs": [],
   "source": [
    "********************************************************************************************************************************"
   ]
  }
 ],
 "metadata": {
  "kernelspec": {
   "display_name": "Python 3 (ipykernel)",
   "language": "python",
   "name": "python3"
  },
  "language_info": {
   "codemirror_mode": {
    "name": "ipython",
    "version": 3
   },
   "file_extension": ".py",
   "mimetype": "text/x-python",
   "name": "python",
   "nbconvert_exporter": "python",
   "pygments_lexer": "ipython3",
   "version": "3.9.12"
  }
 },
 "nbformat": 4,
 "nbformat_minor": 5
}
