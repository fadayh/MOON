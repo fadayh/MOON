{
 "cells": [
  {
   "cell_type": "code",
   "execution_count": 1,
   "id": "623ac170",
   "metadata": {},
   "outputs": [
    {
     "name": "stdout",
     "output_type": "stream",
     "text": [
      "HELLO PHYTHON\n"
     ]
    }
   ],
   "source": [
    "print('HELLO PHYTHON')"
   ]
  },
  {
   "cell_type": "code",
   "execution_count": 2,
   "id": "64b815e0",
   "metadata": {},
   "outputs": [
    {
     "name": "stdout",
     "output_type": "stream",
     "text": [
      "ALEEN VER\n",
      "3.9.12 (main, Apr  4 2022, 05:22:27) [MSC v.1916 64 bit (AMD64)]\n"
     ]
    }
   ],
   "source": [
    "import sys\n",
    "print(\"ALEEN VER\")\n",
    "print(sys.version)"
   ]
  },
  {
   "cell_type": "code",
   "execution_count": 10,
   "id": "8817b081",
   "metadata": {},
   "outputs": [
    {
     "name": "stdout",
     "output_type": "stream",
     "text": [
      "Hello, Python!\n",
      "welcome\n"
     ]
    }
   ],
   "source": [
    "\n",
    " print (\"Hello, Python!\") #This line print a string\n",
    "print (\"welcome\")"
   ]
  },
  {
   "cell_type": "code",
   "execution_count": 58,
   "id": "771dc5a9",
   "metadata": {},
   "outputs": [
    {
     "name": "stdout",
     "output_type": "stream",
     "text": [
      "Hello python!\n"
     ]
    }
   ],
   "source": [
    " print  (\"Hello python!\")"
   ]
  },
  {
   "cell_type": "code",
   "execution_count": 13,
   "id": "8d12566b",
   "metadata": {},
   "outputs": [
    {
     "data": {
      "text/plain": [
       "44"
      ]
     },
     "execution_count": 13,
     "metadata": {},
     "output_type": "execute_result"
    }
   ],
   "source": [
    "# Integer \n",
    "44"
   ]
  },
  {
   "cell_type": "code",
   "execution_count": 14,
   "id": "8c8f824b",
   "metadata": {},
   "outputs": [
    {
     "data": {
      "text/plain": [
       "5.1"
      ]
     },
     "execution_count": 14,
     "metadata": {},
     "output_type": "execute_result"
    }
   ],
   "source": [
    "# Float\n",
    "5.1"
   ]
  },
  {
   "cell_type": "code",
   "execution_count": 15,
   "id": "d82f42e7",
   "metadata": {},
   "outputs": [
    {
     "data": {
      "text/plain": [
       "'information systems'"
      ]
     },
     "execution_count": 15,
     "metadata": {},
     "output_type": "execute_result"
    }
   ],
   "source": [
    "# String \n",
    "\"information systems\""
   ]
  },
  {
   "cell_type": "code",
   "execution_count": 16,
   "id": "2b72fd83",
   "metadata": {},
   "outputs": [
    {
     "data": {
      "text/plain": [
       "int"
      ]
     },
     "execution_count": 16,
     "metadata": {},
     "output_type": "execute_result"
    }
   ],
   "source": [
    "# Verify that this is an integer \n",
    "type (2)"
   ]
  },
  {
   "cell_type": "code",
   "execution_count": 43,
   "id": "33d62ac1",
   "metadata": {},
   "outputs": [
    {
     "data": {
      "text/plain": [
       "7"
      ]
     },
     "execution_count": 43,
     "metadata": {},
     "output_type": "execute_result"
    }
   ],
   "source": [
    "# Convert a string into  an integer \n",
    "int ('7')"
   ]
  },
  {
   "cell_type": "code",
   "execution_count": 50,
   "id": "e64276d9",
   "metadata": {},
   "outputs": [
    {
     "data": {
      "text/plain": [
       "1"
      ]
     },
     "execution_count": 50,
     "metadata": {},
     "output_type": "execute_result"
    }
   ],
   "source": [
    "# convert a string into an wiht error\n",
    "int ('1')"
   ]
  },
  {
   "cell_type": "code",
   "execution_count": 119,
   "id": "74a15f04",
   "metadata": {},
   "outputs": [
    {
     "data": {
      "text/plain": [
       "'2'"
      ]
     },
     "execution_count": 119,
     "metadata": {},
     "output_type": "execute_result"
    }
   ],
   "source": [
    " # convert an integer to a string \n",
    "str(2)"
   ]
  },
  {
   "cell_type": "code",
   "execution_count": 20,
   "id": "7d3df676",
   "metadata": {},
   "outputs": [
    {
     "data": {
      "text/plain": [
       "True"
      ]
     },
     "execution_count": 20,
     "metadata": {},
     "output_type": "execute_result"
    }
   ],
   "source": [
    "# value true \n",
    "True "
   ]
  },
  {
   "cell_type": "code",
   "execution_count": 21,
   "id": "116e8b97",
   "metadata": {},
   "outputs": [
    {
     "data": {
      "text/plain": [
       "-20"
      ]
     },
     "execution_count": 21,
     "metadata": {},
     "output_type": "execute_result"
    }
   ],
   "source": [
    "# Addition operation expression\n",
    "50-70 "
   ]
  },
  {
   "cell_type": "code",
   "execution_count": 27,
   "id": "383cab87",
   "metadata": {},
   "outputs": [
    {
     "data": {
      "text/plain": [
       "80"
      ]
     },
     "execution_count": 27,
     "metadata": {},
     "output_type": "execute_result"
    }
   ],
   "source": [
    "#  Store value into variable \n",
    "x "
   ]
  },
  {
   "cell_type": "code",
   "execution_count": 28,
   "id": "b2e451cb",
   "metadata": {
    "scrolled": false
   },
   "outputs": [
    {
     "data": {
      "text/plain": [
       "1.1428571428571428"
      ]
     },
     "execution_count": 28,
     "metadata": {},
     "output_type": "execute_result"
    }
   ],
   "source": [
    "# Overwrite variable with new value\n",
    "x = x / 70 \n",
    "x"
   ]
  },
  {
   "cell_type": "code",
   "execution_count": null,
   "id": "d3b42a2f",
   "metadata": {},
   "outputs": [],
   "source": [
    "....................................................................................."
   ]
  },
  {
   "cell_type": "code",
   "execution_count": 29,
   "id": "76345560",
   "metadata": {},
   "outputs": [
    {
     "data": {
      "text/plain": [
       "'Aleen Tale'"
      ]
     },
     "execution_count": 29,
     "metadata": {},
     "output_type": "execute_result"
    }
   ],
   "source": [
    "# Use quotation marks for defining string \n",
    "\"Aleen Tale\""
   ]
  },
  {
   "cell_type": "code",
   "execution_count": 30,
   "id": "74480942",
   "metadata": {},
   "outputs": [
    {
     "data": {
      "text/plain": [
       "' 0 1 2 3 '"
      ]
     },
     "execution_count": 30,
     "metadata": {},
     "output_type": "execute_result"
    }
   ],
   "source": [
    "# Digitals and spaces in string \n",
    "' 0 1 2 3 '"
   ]
  },
  {
   "cell_type": "code",
   "execution_count": 31,
   "id": "548cc8aa",
   "metadata": {},
   "outputs": [
    {
     "data": {
      "text/plain": [
       "' @#2_#]&*^%$'"
      ]
     },
     "execution_count": 31,
     "metadata": {},
     "output_type": "execute_result"
    }
   ],
   "source": [
    "# special characters in string \n",
    "'@#2_#]&*^%$'"
   ]
  },
  {
   "cell_type": "code",
   "execution_count": 32,
   "id": "8c58fe95",
   "metadata": {},
   "outputs": [
    {
     "data": {
      "text/plain": [
       "' Aleen '"
      ]
     },
     "execution_count": 32,
     "metadata": {},
     "output_type": "execute_result"
    }
   ],
   "source": [
    "# Assing string to variable \n",
    "name = ' Aleen '\n",
    "name "
   ]
  },
  {
   "cell_type": "code",
   "execution_count": 36,
   "id": "564a6428",
   "metadata": {},
   "outputs": [
    {
     "name": "stdout",
     "output_type": "stream",
     "text": [
      "A\n"
     ]
    }
   ],
   "source": [
    "# print the first element in the string \n",
    "print (name[1])"
   ]
  },
  {
   "cell_type": "code",
   "execution_count": 59,
   "id": "0f294cb0",
   "metadata": {},
   "outputs": [
    {
     "name": "stdout",
     "output_type": "stream",
     "text": [
      "l\n"
     ]
    }
   ],
   "source": [
    "# print the first element in the string \n",
    "print(name[-5])"
   ]
  },
  {
   "cell_type": "code",
   "execution_count": 60,
   "id": "d5e8e18f",
   "metadata": {},
   "outputs": [
    {
     "data": {
      "text/plain": [
       "' Ale'"
      ]
     },
     "execution_count": 60,
     "metadata": {},
     "output_type": "execute_result"
    }
   ],
   "source": [
    "# Take the slice on variable name with  only index 0 to index 3 \n",
    "name [0:4]"
   ]
  },
  {
   "cell_type": "code",
   "execution_count": 61,
   "id": "bc6b2091",
   "metadata": {},
   "outputs": [
    {
     "data": {
      "text/plain": [
       "' le '"
      ]
     },
     "execution_count": 61,
     "metadata": {},
     "output_type": "execute_result"
    }
   ],
   "source": [
    "# Get every second element. The element on index 1 , 3, 5\n",
    "name[::2]"
   ]
  },
  {
   "cell_type": "code",
   "execution_count": 62,
   "id": "25e3b3e0",
   "metadata": {},
   "outputs": [
    {
     "data": {
      "text/plain": [
       "' Aleen is the best'"
      ]
     },
     "execution_count": 62,
     "metadata": {},
     "output_type": "execute_result"
    }
   ],
   "source": [
    "# Concatenate two strings \n",
    "statement = name + \"is the best\"\n",
    "statement"
   ]
  },
  {
   "cell_type": "code",
   "execution_count": 64,
   "id": "1f1d46f0",
   "metadata": {},
   "outputs": [
    {
     "data": {
      "text/plain": [
       "' Aleen Tale  Aleen Tale  Aleen Tale '"
      ]
     },
     "execution_count": 64,
     "metadata": {},
     "output_type": "execute_result"
    }
   ],
   "source": [
    "#print the string for 3 times \n",
    "3 * \" Aleen Tale \""
   ]
  },
  {
   "cell_type": "code",
   "execution_count": 65,
   "id": "b8bc6cfe",
   "metadata": {},
   "outputs": [
    {
     "data": {
      "text/plain": [
       "' Aleen Tale is the best '"
      ]
     },
     "execution_count": 65,
     "metadata": {},
     "output_type": "execute_result"
    }
   ],
   "source": [
    "# concatenate string \n",
    "name = \" Aleen Tale \"\n",
    "name = name + \"is the best \"\n",
    "name"
   ]
  },
  {
   "cell_type": "code",
   "execution_count": 67,
   "id": "7c032155",
   "metadata": {},
   "outputs": [
    {
     "name": "stdout",
     "output_type": "stream",
     "text": [
      " Aleen Tale \n",
      " is the best\n"
     ]
    }
   ],
   "source": [
    "# New line escape sequence\n",
    "print (\" Aleen Tale \\n is the best\")"
   ]
  },
  {
   "cell_type": "code",
   "execution_count": 68,
   "id": "e72c1003",
   "metadata": {},
   "outputs": [
    {
     "name": "stdout",
     "output_type": "stream",
     "text": [
      "Aleen Tale \\ is the best\n"
     ]
    }
   ],
   "source": [
    "print (r\"Aleen Tale \\ is the best\")"
   ]
  },
  {
   "cell_type": "code",
   "execution_count": 70,
   "id": "771a6f19",
   "metadata": {},
   "outputs": [
    {
     "name": "stdout",
     "output_type": "stream",
     "text": [
      "befor upper: thriller is the sixth studio album\n",
      "After upper: THRILLER IS THE SIXTH STUDIO ALBUM\n"
     ]
    }
   ],
   "source": [
    "# Convert all the characters in string to upper case \n",
    "a = \"thriller is the sixth studio album\"\n",
    "print(\"befor upper:\", a)\n",
    "b = a.upper()\n",
    "print(\"After upper:\", b)"
   ]
  },
  {
   "cell_type": "code",
   "execution_count": 71,
   "id": "09f3a35e",
   "metadata": {},
   "outputs": [
    {
     "data": {
      "text/plain": [
       "2"
      ]
     },
     "execution_count": 71,
     "metadata": {},
     "output_type": "execute_result"
    }
   ],
   "source": [
    "# find the substring in the string. only the index of the first element of substring in string will be the output \n",
    "name = \" Aleen Tale \"\n",
    "name.find('le')"
   ]
  },
  {
   "cell_type": "code",
   "execution_count": null,
   "id": "36c97646",
   "metadata": {},
   "outputs": [],
   "source": [
    "...................................................................................................................."
   ]
  },
  {
   "cell_type": "code",
   "execution_count": 75,
   "id": "ca9a1a30",
   "metadata": {},
   "outputs": [
    {
     "data": {
      "text/plain": [
       "('School', 1, 3)"
      ]
     },
     "execution_count": 75,
     "metadata": {},
     "output_type": "execute_result"
    }
   ],
   "source": [
    "# Create your first tuple \n",
    "tuplel = (\"School\",1,3)\n",
    "tuplel"
   ]
  },
  {
   "cell_type": "code",
   "execution_count": 76,
   "id": "96891fbe",
   "metadata": {},
   "outputs": [
    {
     "data": {
      "text/plain": [
       "tuple"
      ]
     },
     "execution_count": 76,
     "metadata": {},
     "output_type": "execute_result"
    }
   ],
   "source": [
    "# print the type of the tuple you created\n",
    "type(tuplel)"
   ]
  },
  {
   "cell_type": "code",
   "execution_count": 77,
   "id": "cc7e4bfb",
   "metadata": {},
   "outputs": [
    {
     "name": "stdout",
     "output_type": "stream",
     "text": [
      "School\n",
      "3\n"
     ]
    }
   ],
   "source": [
    "# print the variable on each index \n",
    "print(tuplel[0])\n",
    "print(tuplel[2])"
   ]
  },
  {
   "cell_type": "code",
   "execution_count": 78,
   "id": "8206b999",
   "metadata": {},
   "outputs": [
    {
     "data": {
      "text/plain": [
       "3"
      ]
     },
     "execution_count": 78,
     "metadata": {},
     "output_type": "execute_result"
    }
   ],
   "source": [
    "tuplel[-1]"
   ]
  },
  {
   "cell_type": "code",
   "execution_count": 81,
   "id": "30a3e743",
   "metadata": {},
   "outputs": [
    {
     "data": {
      "text/plain": [
       "('School', 1, 3, ' university', 10)"
      ]
     },
     "execution_count": 81,
     "metadata": {},
     "output_type": "execute_result"
    }
   ],
   "source": [
    "tuple2 = tuplel + (\" university\", 10)\n",
    "tuple2"
   ]
  },
  {
   "cell_type": "code",
   "execution_count": 82,
   "id": "60a9446f",
   "metadata": {},
   "outputs": [
    {
     "data": {
      "text/plain": [
       "('School', 1, 3)"
      ]
     },
     "execution_count": 82,
     "metadata": {},
     "output_type": "execute_result"
    }
   ],
   "source": [
    "# slice from index 0 to index 2\n",
    "tuple2[0:3]"
   ]
  },
  {
   "cell_type": "code",
   "execution_count": 83,
   "id": "d448ff25",
   "metadata": {},
   "outputs": [
    {
     "data": {
      "text/plain": [
       "5"
      ]
     },
     "execution_count": 83,
     "metadata": {},
     "output_type": "execute_result"
    }
   ],
   "source": [
    "# Get the length of tuple\n",
    "len(tuple2)"
   ]
  },
  {
   "cell_type": "code",
   "execution_count": 94,
   "id": "b1e783f2",
   "metadata": {},
   "outputs": [
    {
     "data": {
      "text/plain": [
       "[3, 5]"
      ]
     },
     "execution_count": 94,
     "metadata": {},
     "output_type": "execute_result"
    }
   ],
   "source": [
    "# sort the tuple \n",
    "ratingssorted = sorted(Ratings)\n",
    "ratingssorted"
   ]
  },
  {
   "cell_type": "code",
   "execution_count": 110,
   "id": "1b326727",
   "metadata": {},
   "outputs": [
    {
     "data": {
      "text/plain": [
       "'i'"
      ]
     },
     "execution_count": 110,
     "metadata": {},
     "output_type": "execute_result"
    }
   ],
   "source": [
    "#print the first element in the second nested tuples \n",
    "NestedT[1][2]"
   ]
  },
  {
   "cell_type": "code",
   "execution_count": 111,
   "id": "7602ca30",
   "metadata": {},
   "outputs": [],
   "source": []
  },
  {
   "cell_type": "code",
   "execution_count": null,
   "id": "1b5555b3",
   "metadata": {},
   "outputs": [],
   "source": []
  }
 ],
 "metadata": {
  "kernelspec": {
   "display_name": "Python 3 (ipykernel)",
   "language": "python",
   "name": "python3"
  },
  "language_info": {
   "codemirror_mode": {
    "name": "ipython",
    "version": 3
   },
   "file_extension": ".py",
   "mimetype": "text/x-python",
   "name": "python",
   "nbconvert_exporter": "python",
   "pygments_lexer": "ipython3",
   "version": "3.9.12"
  }
 },
 "nbformat": 4,
 "nbformat_minor": 5
}
